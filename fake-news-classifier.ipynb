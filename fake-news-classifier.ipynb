{
 "cells": [
  {
   "cell_type": "markdown",
   "metadata": {},
   "source": [
    "# Fake news classifier"
   ]
  },
  {
   "cell_type": "markdown",
   "metadata": {},
   "source": [
    "## 1. imports"
   ]
  },
  {
   "cell_type": "code",
   "execution_count": 1,
   "metadata": {},
   "outputs": [],
   "source": [
    "import time\n",
    "import numpy as np\n",
    "import pandas as pd\n",
    "import matplotlib.pyplot as plt\n",
    "%matplotlib inline\n",
    "from sklearn.model_selection import train_test_split\n",
    "# Bag-of-Words transformers\n",
    "from sklearn.feature_extraction.text import CountVectorizer\n",
    "from sklearn.feature_extraction.text import TfidfVectorizer\n",
    "# Models\n",
    "from sklearn.linear_model import LogisticRegression\n",
    "from sklearn.linear_model import PassiveAggressiveClassifier\n",
    "from sklearn.naive_bayes import MultinomialNB\n",
    "from sklearn.naive_bayes import GaussianNB\n",
    "from sklearn.tree import DecisionTreeClassifier\n",
    "from sklearn.ensemble import RandomForestClassifier\n",
    "from sklearn.svm import SVC # Support Vector Classification\n",
    "# Model evaluation\n",
    "import itertools\n",
    "from sklearn.metrics import accuracy_score, confusion_matrix, f1_score, classification_report\n",
    "from sklearn.metrics import precision_score, recall_score\n",
    "# Model export\n",
    "import pickle"
   ]
  },
  {
   "cell_type": "markdown",
   "metadata": {},
   "source": [
    "## 2. check the dataset"
   ]
  },
  {
   "cell_type": "code",
   "execution_count": 2,
   "metadata": {},
   "outputs": [],
   "source": [
    "df = pd.read_csv('data/fake-news/fake_or_real_news.csv')"
   ]
  },
  {
   "cell_type": "code",
   "execution_count": 3,
   "metadata": {},
   "outputs": [
    {
     "data": {
      "text/html": [
       "<div>\n",
       "<style scoped>\n",
       "    .dataframe tbody tr th:only-of-type {\n",
       "        vertical-align: middle;\n",
       "    }\n",
       "\n",
       "    .dataframe tbody tr th {\n",
       "        vertical-align: top;\n",
       "    }\n",
       "\n",
       "    .dataframe thead th {\n",
       "        text-align: right;\n",
       "    }\n",
       "</style>\n",
       "<table border=\"1\" class=\"dataframe\">\n",
       "  <thead>\n",
       "    <tr style=\"text-align: right;\">\n",
       "      <th></th>\n",
       "      <th>Unnamed: 0</th>\n",
       "      <th>title</th>\n",
       "      <th>text</th>\n",
       "      <th>label</th>\n",
       "    </tr>\n",
       "  </thead>\n",
       "  <tbody>\n",
       "    <tr>\n",
       "      <th>0</th>\n",
       "      <td>8476</td>\n",
       "      <td>You Can Smell Hillary’s Fear</td>\n",
       "      <td>Daniel Greenfield, a Shillman Journalism Fello...</td>\n",
       "      <td>FAKE</td>\n",
       "    </tr>\n",
       "    <tr>\n",
       "      <th>1</th>\n",
       "      <td>10294</td>\n",
       "      <td>Watch The Exact Moment Paul Ryan Committed Pol...</td>\n",
       "      <td>Google Pinterest Digg Linkedin Reddit Stumbleu...</td>\n",
       "      <td>FAKE</td>\n",
       "    </tr>\n",
       "    <tr>\n",
       "      <th>2</th>\n",
       "      <td>3608</td>\n",
       "      <td>Kerry to go to Paris in gesture of sympathy</td>\n",
       "      <td>U.S. Secretary of State John F. Kerry said Mon...</td>\n",
       "      <td>REAL</td>\n",
       "    </tr>\n",
       "    <tr>\n",
       "      <th>3</th>\n",
       "      <td>10142</td>\n",
       "      <td>Bernie supporters on Twitter erupt in anger ag...</td>\n",
       "      <td>— Kaydee King (@KaydeeKing) November 9, 2016 T...</td>\n",
       "      <td>FAKE</td>\n",
       "    </tr>\n",
       "    <tr>\n",
       "      <th>4</th>\n",
       "      <td>875</td>\n",
       "      <td>The Battle of New York: Why This Primary Matters</td>\n",
       "      <td>It's primary day in New York and front-runners...</td>\n",
       "      <td>REAL</td>\n",
       "    </tr>\n",
       "  </tbody>\n",
       "</table>\n",
       "</div>"
      ],
      "text/plain": [
       "   Unnamed: 0                                              title  \\\n",
       "0        8476                       You Can Smell Hillary’s Fear   \n",
       "1       10294  Watch The Exact Moment Paul Ryan Committed Pol...   \n",
       "2        3608        Kerry to go to Paris in gesture of sympathy   \n",
       "3       10142  Bernie supporters on Twitter erupt in anger ag...   \n",
       "4         875   The Battle of New York: Why This Primary Matters   \n",
       "\n",
       "                                                text label  \n",
       "0  Daniel Greenfield, a Shillman Journalism Fello...  FAKE  \n",
       "1  Google Pinterest Digg Linkedin Reddit Stumbleu...  FAKE  \n",
       "2  U.S. Secretary of State John F. Kerry said Mon...  REAL  \n",
       "3  — Kaydee King (@KaydeeKing) November 9, 2016 T...  FAKE  \n",
       "4  It's primary day in New York and front-runners...  REAL  "
      ]
     },
     "execution_count": 3,
     "metadata": {},
     "output_type": "execute_result"
    }
   ],
   "source": [
    "df.head()"
   ]
  },
  {
   "cell_type": "code",
   "execution_count": 4,
   "metadata": {},
   "outputs": [
    {
     "data": {
      "text/plain": [
       "(6335, 4)"
      ]
     },
     "execution_count": 4,
     "metadata": {},
     "output_type": "execute_result"
    }
   ],
   "source": [
    "df.shape"
   ]
  },
  {
   "cell_type": "code",
   "execution_count": 5,
   "metadata": {},
   "outputs": [
    {
     "data": {
      "text/plain": [
       "REAL    3171\n",
       "FAKE    3164\n",
       "Name: label, dtype: int64"
      ]
     },
     "execution_count": 5,
     "metadata": {},
     "output_type": "execute_result"
    }
   ],
   "source": [
    "df['label'].value_counts() # normalize=True"
   ]
  },
  {
   "cell_type": "markdown",
   "metadata": {},
   "source": [
    "**There are no missing values in the dataset.**"
   ]
  },
  {
   "cell_type": "code",
   "execution_count": 6,
   "metadata": {},
   "outputs": [
    {
     "data": {
      "text/plain": [
       "False"
      ]
     },
     "execution_count": 6,
     "metadata": {},
     "output_type": "execute_result"
    }
   ],
   "source": [
    "df.isnull().values.any()"
   ]
  },
  {
   "cell_type": "markdown",
   "metadata": {},
   "source": [
    "## 3. split the dataset into training set and test set"
   ]
  },
  {
   "cell_type": "code",
   "execution_count": 7,
   "metadata": {},
   "outputs": [],
   "source": [
    "X_train, X_test, y_train, y_test = train_test_split(df['text'], df['label'], test_size=0.33, random_state=42)"
   ]
  },
  {
   "cell_type": "code",
   "execution_count": 8,
   "metadata": {},
   "outputs": [
    {
     "name": "stdout",
     "output_type": "stream",
     "text": [
      "X_train shape: (4244,)\n",
      "X_test shape: (2091,)\n"
     ]
    }
   ],
   "source": [
    "print(f'X_train shape: {X_train.shape}\\nX_test shape: {X_test.shape}')"
   ]
  },
  {
   "cell_type": "code",
   "execution_count": 9,
   "metadata": {},
   "outputs": [
    {
     "data": {
      "text/plain": [
       "pandas.core.series.Series"
      ]
     },
     "execution_count": 9,
     "metadata": {},
     "output_type": "execute_result"
    }
   ],
   "source": [
    "type(X_train)"
   ]
  },
  {
   "cell_type": "code",
   "execution_count": 10,
   "metadata": {},
   "outputs": [
    {
     "data": {
      "text/plain": [
       "5593    The next president is most likely to face an i...\n",
       "6067    Following news of FBI Director James Comey’s d...\n",
       "3026    Interviews A protester throws a glass bottle c...\n",
       "4385    Will it be representative government or thugoc...\n",
       "120     It is increasingly apparent that the U.S. war ...\n",
       "Name: text, dtype: object"
      ]
     },
     "execution_count": 10,
     "metadata": {},
     "output_type": "execute_result"
    }
   ],
   "source": [
    "X_train.head()"
   ]
  },
  {
   "cell_type": "code",
   "execution_count": 11,
   "metadata": {},
   "outputs": [
    {
     "data": {
      "text/plain": [
       "Int64Index([5593, 6067, 3026, 4385, 120, 1777, 6129, 5085, 3123, 3639], dtype='int64')"
      ]
     },
     "execution_count": 11,
     "metadata": {},
     "output_type": "execute_result"
    }
   ],
   "source": [
    "X_train.index[:10]"
   ]
  },
  {
   "cell_type": "code",
   "execution_count": 12,
   "metadata": {},
   "outputs": [
    {
     "data": {
      "text/plain": [
       "'The next president is most likely to face an international crisis shortly after taking office — and '"
      ]
     },
     "execution_count": 12,
     "metadata": {},
     "output_type": "execute_result"
    }
   ],
   "source": [
    "X_train.values[0][:100]"
   ]
  },
  {
   "cell_type": "code",
   "execution_count": 13,
   "metadata": {},
   "outputs": [
    {
     "data": {
      "text/plain": [
       "5593    REAL\n",
       "6067    FAKE\n",
       "3026    FAKE\n",
       "4385    FAKE\n",
       "120     REAL\n",
       "Name: label, dtype: object"
      ]
     },
     "execution_count": 13,
     "metadata": {},
     "output_type": "execute_result"
    }
   ],
   "source": [
    "y_train.head()"
   ]
  },
  {
   "cell_type": "markdown",
   "metadata": {},
   "source": [
    "## 4. bag-of-words with CountVectorizer"
   ]
  },
  {
   "cell_type": "code",
   "execution_count": 14,
   "metadata": {},
   "outputs": [],
   "source": [
    "count_vectorizer = CountVectorizer(stop_words='english') # delete english stop words like I, me, my..."
   ]
  },
  {
   "cell_type": "code",
   "execution_count": 15,
   "metadata": {},
   "outputs": [],
   "source": [
    "X_countvec_train = count_vectorizer.fit_transform(X_train.values) \n",
    "# .fit() creates the bag-of-words\n",
    "# .transform() transforms the words into vectors"
   ]
  },
  {
   "cell_type": "code",
   "execution_count": 16,
   "metadata": {},
   "outputs": [
    {
     "data": {
      "text/plain": [
       "scipy.sparse.csr.csr_matrix"
      ]
     },
     "execution_count": 16,
     "metadata": {},
     "output_type": "execute_result"
    }
   ],
   "source": [
    "type(X_countvec_train)"
   ]
  },
  {
   "cell_type": "code",
   "execution_count": 17,
   "metadata": {},
   "outputs": [
    {
     "data": {
      "text/plain": [
       "<4244x56801 sparse matrix of type '<class 'numpy.int64'>'\n",
       "\twith 1103130 stored elements in Compressed Sparse Row format>"
      ]
     },
     "execution_count": 17,
     "metadata": {},
     "output_type": "execute_result"
    }
   ],
   "source": [
    "X_countvec_train"
   ]
  },
  {
   "cell_type": "code",
   "execution_count": 18,
   "metadata": {},
   "outputs": [],
   "source": [
    "X_countvec_test = count_vectorizer.transform(X_test.values)"
   ]
  },
  {
   "cell_type": "code",
   "execution_count": 19,
   "metadata": {},
   "outputs": [
    {
     "data": {
      "text/plain": [
       "<2091x56801 sparse matrix of type '<class 'numpy.int64'>'\n",
       "\twith 550168 stored elements in Compressed Sparse Row format>"
      ]
     },
     "execution_count": 19,
     "metadata": {},
     "output_type": "execute_result"
    }
   ],
   "source": [
    "X_countvec_test"
   ]
  },
  {
   "cell_type": "markdown",
   "metadata": {},
   "source": [
    "## 5. accuracy and efficiency of one of the models"
   ]
  },
  {
   "cell_type": "code",
   "execution_count": 20,
   "metadata": {},
   "outputs": [
    {
     "name": "stdout",
     "output_type": "stream",
     "text": [
      "3.2453978061676025\n"
     ]
    }
   ],
   "source": [
    "logreg = LogisticRegression(max_iter=300, random_state=42)\n",
    "t0 = time.time()\n",
    "logreg.fit(X_countvec_train, y_train)\n",
    "fit_time = time.time() - t0\n",
    "print(fit_time)"
   ]
  },
  {
   "cell_type": "code",
   "execution_count": 21,
   "metadata": {},
   "outputs": [],
   "source": [
    "y_pred = logreg.predict(X_countvec_test)"
   ]
  },
  {
   "cell_type": "code",
   "execution_count": 22,
   "metadata": {},
   "outputs": [
    {
     "data": {
      "text/plain": [
       "0.9120038259206121"
      ]
     },
     "execution_count": 22,
     "metadata": {},
     "output_type": "execute_result"
    }
   ],
   "source": [
    "acc = accuracy_score(y_test, y_pred)\n",
    "acc"
   ]
  },
  {
   "cell_type": "code",
   "execution_count": 23,
   "metadata": {},
   "outputs": [],
   "source": [
    "# same accuracy score\n",
    "# acc_score1 = logreg.score(X_countvec_test, y_test)\n",
    "# acc_score1"
   ]
  },
  {
   "cell_type": "code",
   "execution_count": 24,
   "metadata": {},
   "outputs": [],
   "source": [
    "# same accuracy score\n",
    "# acc_alt1 = np.mean(y_test == y_pred)\n",
    "# acc_alt1"
   ]
  },
  {
   "cell_type": "markdown",
   "metadata": {},
   "source": [
    "## 6. check the accuracy of the models (text transformed by the CountVectorizer)"
   ]
  },
  {
   "cell_type": "code",
   "execution_count": 25,
   "metadata": {},
   "outputs": [],
   "source": [
    "models = {'Logistic Regression': LogisticRegression, \n",
    "          'Passive Aggressive Classifier': PassiveAggressiveClassifier, \n",
    "          'Multinomial Naive Bayes': MultinomialNB, \n",
    "          #'Gaussian Naive Bayes': GaussianNB,\n",
    "          'Decision Tree Classifier': DecisionTreeClassifier, \n",
    "          'Random Forest Classifier': RandomForestClassifier, \n",
    "          'Support Vector Classification': SVC}"
   ]
  },
  {
   "cell_type": "code",
   "execution_count": 26,
   "metadata": {},
   "outputs": [],
   "source": [
    "def model_accuracy(ml_model, X_train, y_train, X_test, y_test): # model_parameters=None\n",
    "    '''Train an ML model create predictions and calculate the accuracy score'''\n",
    "    \n",
    "    # instantiate the model\n",
    "    if ml_model == LogisticRegression or ml_model == PassiveAggressiveClassifier:\n",
    "        model = ml_model(max_iter=300) # otherwise: ConvergenceWarning, # random_state=42\n",
    "    else:\n",
    "        model = ml_model() # model_parameters, # random_state=42\n",
    "    \n",
    "    # start measuring time\n",
    "    time_start = time.time()\n",
    "    \n",
    "    # train the model\n",
    "    model.fit(X_train, y_train)\n",
    "    \n",
    "    # make prediction\n",
    "    y_prediction = model.predict(X_test)\n",
    "    \n",
    "    # results\n",
    "    train_predict_time = round(time.time() - time_start, 2)\n",
    "    acc = round(accuracy_score(y_test, y_prediction), 3)\n",
    "    \n",
    "    return acc, train_predict_time"
   ]
  },
  {
   "cell_type": "code",
   "execution_count": 27,
   "metadata": {},
   "outputs": [],
   "source": [
    "# The Gaussian Naive Bayes model doesn't work well with a sparse matrix\n",
    "# m4 = GaussianNB()\n",
    "# m4.fit(X_countvec_train.toarray(), y_train)"
   ]
  },
  {
   "cell_type": "code",
   "execution_count": 28,
   "metadata": {},
   "outputs": [],
   "source": [
    "# model_accuracy(LogisticRegression, X_countvec_train, y_train, X_countvec_test, y_test)"
   ]
  },
  {
   "cell_type": "code",
   "execution_count": 29,
   "metadata": {},
   "outputs": [
    {
     "name": "stdout",
     "output_type": "stream",
     "text": [
      "\n",
      "model: Logistic Regression\n",
      "accuracy: 0.912\n",
      "time of training and prediction: 3.15s\n",
      "\n",
      "model: Passive Aggressive Classifier\n",
      "accuracy: 0.896\n",
      "time of training and prediction: 0.11s\n",
      "\n",
      "model: Multinomial Naive Bayes\n",
      "accuracy: 0.889\n",
      "time of training and prediction: 0.03s\n",
      "\n",
      "model: Decision Tree Classifier\n",
      "accuracy: 0.816\n",
      "time of training and prediction: 6.77s\n",
      "\n",
      "model: Random Forest Classifier\n",
      "accuracy: 0.901\n",
      "time of training and prediction: 8.53s\n",
      "\n",
      "model: Support Vector Classification\n",
      "accuracy: 0.879\n",
      "time of training and prediction: 38.71s\n"
     ]
    }
   ],
   "source": [
    "models_list = []\n",
    "accuracies_list = []\n",
    "train_predict_times_list = []\n",
    "\n",
    "for name, model in models.items():\n",
    "    # run the model accuracy function\n",
    "    acc, train_predict_time = model_accuracy(model, X_countvec_train, y_train, X_countvec_test, y_test)\n",
    "    \n",
    "    # save the results in the above created lists\n",
    "    models_list.append(name)\n",
    "    accuracies_list.append(acc)\n",
    "    train_predict_times_list.append(train_predict_time)\n",
    "    \n",
    "    # print the results\n",
    "    print(f'\\nmodel: {name}\\naccuracy: {acc}\\ntime of training and prediction: {train_predict_time}s')"
   ]
  },
  {
   "cell_type": "markdown",
   "metadata": {},
   "source": [
    "The text is transformed into bag-of-words with **CountVectorizer**. In this case the best performing model is the **Logistic Regression** with an **accuracy** of **91%** and the training and prediction generation of it is not that time consuming as the Random Forest Classifier or the Support Vector Classification."
   ]
  },
  {
   "cell_type": "markdown",
   "metadata": {},
   "source": [
    "## 7. plot the results (text transformed by the CountVectorizer)"
   ]
  },
  {
   "cell_type": "code",
   "execution_count": 30,
   "metadata": {},
   "outputs": [
    {
     "data": {
      "image/png": "[encoded data removed]",
      "text/plain": [
       "<Figure size 864x360 with 1 Axes>"
      ]
     },
     "metadata": {
      "needs_background": "light"
     },
     "output_type": "display_data"
    }
   ],
   "source": [
    "plt.figure(figsize=(12, 5))\n",
    "plt.bar(models_list, accuracies_list)\n",
    "plt.xticks(rotation=45)\n",
    "plt.title('Model accuracies (CountVectorizer)')\n",
    "plt.ylabel('accuracy score')\n",
    "plt.ylim(0.75, 0.95);"
   ]
  },
  {
   "cell_type": "code",
   "execution_count": 31,
   "metadata": {},
   "outputs": [
    {
     "data": {
      "image/png": "[encoded data removed]",
      "text/plain": [
       "<Figure size 864x360 with 1 Axes>"
      ]
     },
     "metadata": {
      "needs_background": "light"
     },
     "output_type": "display_data"
    }
   ],
   "source": [
    "plt.figure(figsize=(12, 5))\n",
    "plt.bar(models_list, train_predict_times_list)\n",
    "plt.xticks(rotation=45)\n",
    "plt.title('Training and prediction time by model (CountVectorizer)')\n",
    "plt.ylabel('time (in seconds)');"
   ]
  },
  {
   "cell_type": "markdown",
   "metadata": {},
   "source": [
    "## 8. bag-of-words with TfidfVectorizer"
   ]
  },
  {
   "cell_type": "code",
   "execution_count": 32,
   "metadata": {},
   "outputs": [],
   "source": [
    "tfidf_vectorizer = TfidfVectorizer(stop_words='english', max_df=0.8) \n",
    "# max_df: ignore terms that appear in more than 80% of the documents"
   ]
  },
  {
   "cell_type": "code",
   "execution_count": 33,
   "metadata": {},
   "outputs": [],
   "source": [
    "X_tfidf_train = tfidf_vectorizer.fit_transform(X_train.values)"
   ]
  },
  {
   "cell_type": "code",
   "execution_count": 34,
   "metadata": {},
   "outputs": [
    {
     "data": {
      "text/plain": [
       "<4244x56801 sparse matrix of type '<class 'numpy.float64'>'\n",
       "\twith 1103130 stored elements in Compressed Sparse Row format>"
      ]
     },
     "execution_count": 34,
     "metadata": {},
     "output_type": "execute_result"
    }
   ],
   "source": [
    "X_tfidf_train"
   ]
  },
  {
   "cell_type": "code",
   "execution_count": 35,
   "metadata": {},
   "outputs": [],
   "source": [
    "X_tfidf_test = tfidf_vectorizer.transform(X_test.values)"
   ]
  },
  {
   "cell_type": "code",
   "execution_count": 36,
   "metadata": {},
   "outputs": [
    {
     "data": {
      "text/plain": [
       "<2091x56801 sparse matrix of type '<class 'numpy.float64'>'\n",
       "\twith 550168 stored elements in Compressed Sparse Row format>"
      ]
     },
     "execution_count": 36,
     "metadata": {},
     "output_type": "execute_result"
    }
   ],
   "source": [
    "X_tfidf_test"
   ]
  },
  {
   "cell_type": "markdown",
   "metadata": {},
   "source": [
    "## 9. check the accuracy of the models (text transformed with TfidfVectorizer)"
   ]
  },
  {
   "cell_type": "code",
   "execution_count": 37,
   "metadata": {},
   "outputs": [
    {
     "name": "stdout",
     "output_type": "stream",
     "text": [
      "\n",
      "model: Logistic Regression\n",
      "accuracy: 0.914\n",
      "time of training and prediction: 0.7s\n",
      "\n",
      "model: Passive Aggressive Classifier\n",
      "accuracy: 0.936\n",
      "time of training and prediction: 0.08s\n",
      "\n",
      "model: Multinomial Naive Bayes\n",
      "accuracy: 0.815\n",
      "time of training and prediction: 0.04s\n",
      "\n",
      "model: Decision Tree Classifier\n",
      "accuracy: 0.803\n",
      "time of training and prediction: 4.91s\n",
      "\n",
      "model: Random Forest Classifier\n",
      "accuracy: 0.897\n",
      "time of training and prediction: 6.67s\n",
      "\n",
      "model: Support Vector Classification\n",
      "accuracy: 0.93\n",
      "time of training and prediction: 54.73s\n"
     ]
    }
   ],
   "source": [
    "models_list = []\n",
    "accuracies_list = []\n",
    "train_predict_times_list = []\n",
    "\n",
    "for name, model in models.items():\n",
    "    # run the model accuracy function\n",
    "    acc, train_predict_time = model_accuracy(model, X_tfidf_train, y_train, X_tfidf_test, y_test)\n",
    "    \n",
    "    # save the results in the above created lists\n",
    "    models_list.append(name)\n",
    "    accuracies_list.append(acc)\n",
    "    train_predict_times_list.append(train_predict_time)\n",
    "    \n",
    "    # print the results\n",
    "    print(f'\\nmodel: {name}\\naccuracy: {acc}\\ntime of training and prediction: {train_predict_time}s')"
   ]
  },
  {
   "cell_type": "markdown",
   "metadata": {},
   "source": [
    "The text is transformed into bag-of-words with TfidfVectorizer. In this case the best performing model is the **Passive Aggressive Classifier** with an **accuracy** of **93,5%** and the training and prediction generation of it is not that time consuming as the Support Vector Classification."
   ]
  },
  {
   "cell_type": "markdown",
   "metadata": {},
   "source": [
    "## 10. plot the results (text transformed by the TfidfVectorizer)"
   ]
  },
  {
   "cell_type": "code",
   "execution_count": 38,
   "metadata": {},
   "outputs": [
    {
     "data": {
      "image/png": "[encoded data removed]",
      "text/plain": [
       "<Figure size 864x360 with 1 Axes>"
      ]
     },
     "metadata": {
      "needs_background": "light"
     },
     "output_type": "display_data"
    }
   ],
   "source": [
    "plt.figure(figsize=(12, 5))\n",
    "plt.bar(models_list, accuracies_list)\n",
    "plt.xticks(rotation=45)\n",
    "plt.title('Model accuracies (CountVectorizer)')\n",
    "plt.ylabel('accuracy score')\n",
    "plt.ylim(0.75, 0.95);"
   ]
  },
  {
   "cell_type": "code",
   "execution_count": 39,
   "metadata": {},
   "outputs": [
    {
     "data": {
      "image/png": "[encoded data removed]",
      "text/plain": [
       "<Figure size 864x360 with 1 Axes>"
      ]
     },
     "metadata": {
      "needs_background": "light"
     },
     "output_type": "display_data"
    }
   ],
   "source": [
    "plt.figure(figsize=(12, 5))\n",
    "plt.bar(models_list, train_predict_times_list)\n",
    "plt.xticks(rotation=45)\n",
    "plt.title('Training and prediction time by model (CountVectorizer)')\n",
    "plt.ylabel('time (in seconds)');"
   ]
  },
  {
   "cell_type": "markdown",
   "metadata": {},
   "source": [
    "## 11. tune the hyperparameters of the best performing model\n",
    "Passive Aggressive Classifier (text transformed by TfidfVectorizer)"
   ]
  },
  {
   "cell_type": "markdown",
   "metadata": {},
   "source": [
    "**check different values of C (regularization parameter)**"
   ]
  },
  {
   "cell_type": "code",
   "execution_count": 40,
   "metadata": {},
   "outputs": [],
   "source": [
    "training_accuracy = []\n",
    "test_accuracy = []\n",
    "# C is a regularization parameter. Smaller values specify stronger regularization.\n",
    "# default C = 1.0\n",
    "c_range = [0.001, 0.01, 0.1, 1, 10]\n",
    "\n",
    "for c in c_range:\n",
    "    # build the model\n",
    "    model = PassiveAggressiveClassifier(C=c, random_state=42)\n",
    "    # train the model\n",
    "    model.fit(X_tfidf_train, y_train)\n",
    "    # record training set accuracy\n",
    "    training_accuracy.append(model.score(X_tfidf_train, y_train))\n",
    "    # record generalization accuracy\n",
    "    test_accuracy.append(model.score(X_tfidf_test, y_test))"
   ]
  },
  {
   "cell_type": "code",
   "execution_count": 41,
   "metadata": {},
   "outputs": [
    {
     "data": {
      "text/plain": [
       "[0.001, 0.01, 0.1, 1, 10]"
      ]
     },
     "execution_count": 41,
     "metadata": {},
     "output_type": "execute_result"
    }
   ],
   "source": [
    "c_range"
   ]
  },
  {
   "cell_type": "code",
   "execution_count": 42,
   "metadata": {},
   "outputs": [
    {
     "data": {
      "text/plain": [
       "[0.934, 0.987, 1.0, 1.0, 1.0]"
      ]
     },
     "execution_count": 42,
     "metadata": {},
     "output_type": "execute_result"
    }
   ],
   "source": [
    "[round(a, 3) for a in training_accuracy]"
   ]
  },
  {
   "cell_type": "code",
   "execution_count": 43,
   "metadata": {},
   "outputs": [
    {
     "data": {
      "text/plain": [
       "[0.912, 0.934, 0.942, 0.936, 0.937]"
      ]
     },
     "execution_count": 43,
     "metadata": {},
     "output_type": "execute_result"
    }
   ],
   "source": [
    "[round(a, 3) for a in test_accuracy]"
   ]
  },
  {
   "cell_type": "code",
   "execution_count": 44,
   "metadata": {},
   "outputs": [],
   "source": [
    "res = {c_range[i]: [training_accuracy[i], test_accuracy[i]] for i in range(len(c_range))}"
   ]
  },
  {
   "cell_type": "code",
   "execution_count": 45,
   "metadata": {},
   "outputs": [
    {
     "data": {
      "text/html": [
       "<div>\n",
       "<style scoped>\n",
       "    .dataframe tbody tr th:only-of-type {\n",
       "        vertical-align: middle;\n",
       "    }\n",
       "\n",
       "    .dataframe tbody tr th {\n",
       "        vertical-align: top;\n",
       "    }\n",
       "\n",
       "    .dataframe thead th {\n",
       "        text-align: right;\n",
       "    }\n",
       "</style>\n",
       "<table border=\"1\" class=\"dataframe\">\n",
       "  <thead>\n",
       "    <tr style=\"text-align: right;\">\n",
       "      <th></th>\n",
       "      <th>0.001</th>\n",
       "      <th>0.010</th>\n",
       "      <th>0.100</th>\n",
       "      <th>1.000</th>\n",
       "      <th>10.000</th>\n",
       "    </tr>\n",
       "  </thead>\n",
       "  <tbody>\n",
       "    <tr>\n",
       "      <th>train_acc</th>\n",
       "      <td>0.933789</td>\n",
       "      <td>0.986805</td>\n",
       "      <td>1.000000</td>\n",
       "      <td>1.000000</td>\n",
       "      <td>1.000000</td>\n",
       "    </tr>\n",
       "    <tr>\n",
       "      <th>test_acc</th>\n",
       "      <td>0.911526</td>\n",
       "      <td>0.934003</td>\n",
       "      <td>0.941655</td>\n",
       "      <td>0.936394</td>\n",
       "      <td>0.937351</td>\n",
       "    </tr>\n",
       "  </tbody>\n",
       "</table>\n",
       "</div>"
      ],
      "text/plain": [
       "             0.001     0.010     0.100     1.000     10.000\n",
       "train_acc  0.933789  0.986805  1.000000  1.000000  1.000000\n",
       "test_acc   0.911526  0.934003  0.941655  0.936394  0.937351"
      ]
     },
     "execution_count": 45,
     "metadata": {},
     "output_type": "execute_result"
    }
   ],
   "source": [
    "res_df = pd.DataFrame(res, index=['train_acc', 'test_acc'])\n",
    "res_df"
   ]
  },
  {
   "cell_type": "markdown",
   "metadata": {},
   "source": [
    "**plot the accuracy results**"
   ]
  },
  {
   "cell_type": "code",
   "execution_count": 46,
   "metadata": {},
   "outputs": [
    {
     "data": {
      "image/png": "[encoded data removed]",
      "text/plain": [
       "<Figure size 864x360 with 1 Axes>"
      ]
     },
     "metadata": {
      "needs_background": "light"
     },
     "output_type": "display_data"
    }
   ],
   "source": [
    "plt.figure(figsize=(12, 5))\n",
    "plt.plot(c_range, training_accuracy, label='training accuracy')\n",
    "plt.plot(c_range, test_accuracy, label='test accuracy')\n",
    "plt.ylabel('accuray')\n",
    "plt.xlabel('c_range')\n",
    "plt.legend()\n",
    "plt.xscale('log');\n",
    "# plt.xlim(0, 2);"
   ]
  },
  {
   "cell_type": "markdown",
   "metadata": {},
   "source": [
    "## 12. evaluate the best performing model more in details\n",
    "Passive Aggressive Classifier (text transformed by TfidfVectorizer)"
   ]
  },
  {
   "cell_type": "code",
   "execution_count": 47,
   "metadata": {},
   "outputs": [
    {
     "data": {
      "text/plain": [
       "0.943"
      ]
     },
     "execution_count": 47,
     "metadata": {},
     "output_type": "execute_result"
    }
   ],
   "source": [
    "acc_pac, time_pac = (model_accuracy(PassiveAggressiveClassifier, \n",
    "                                    X_tfidf_train, \n",
    "                                    y_train, \n",
    "                                    X_tfidf_test, \n",
    "                                    y_test)) # model_parameters={'C':0.1}\n",
    "acc_pac"
   ]
  },
  {
   "cell_type": "code",
   "execution_count": 48,
   "metadata": {},
   "outputs": [
    {
     "name": "stdout",
     "output_type": "stream",
     "text": [
      "3.245s\n"
     ]
    }
   ],
   "source": [
    "pac_model = PassiveAggressiveClassifier(C=0.1, random_state=42)\n",
    "\n",
    "time_start = time.time()\n",
    "\n",
    "pac_model.fit(X_tfidf_train, y_train)\n",
    "y_pred_pac = pac_model.predict(X_tfidf_test)\n",
    "acc_pac = accuracy_score(y_test, y_pred_pac)\n",
    "\n",
    "time_end = time.time() - t0\n",
    "print(f'{round(fit_time, 3)}s')"
   ]
  },
  {
   "cell_type": "code",
   "execution_count": 49,
   "metadata": {},
   "outputs": [
    {
     "data": {
      "text/plain": [
       "0.942"
      ]
     },
     "execution_count": 49,
     "metadata": {},
     "output_type": "execute_result"
    }
   ],
   "source": [
    "round(acc_pac, 3)"
   ]
  },
  {
   "cell_type": "code",
   "execution_count": 50,
   "metadata": {},
   "outputs": [
    {
     "data": {
      "text/plain": [
       "FAKE    1071\n",
       "REAL    1020\n",
       "Name: label, dtype: int64"
      ]
     },
     "execution_count": 50,
     "metadata": {},
     "output_type": "execute_result"
    }
   ],
   "source": [
    "y_test.value_counts()"
   ]
  },
  {
   "cell_type": "code",
   "execution_count": 51,
   "metadata": {},
   "outputs": [
    {
     "data": {
      "text/plain": [
       "array([[ 955,   65],\n",
       "       [  57, 1014]])"
      ]
     },
     "execution_count": 51,
     "metadata": {},
     "output_type": "execute_result"
    }
   ],
   "source": [
    "cm_pac = confusion_matrix(y_test, y_pred_pac, labels=['REAL', 'FAKE'])\n",
    "cm_pac"
   ]
  },
  {
   "cell_type": "markdown",
   "metadata": {},
   "source": [
    "Out of 1071 (57+1014) actual fake news the model found 1014. **recall(FN)** = 1014/1071 = 94,68%\n",
    "\n",
    "Out of 1079 (65+1014) fake predictions of the model, 1014 are really fake. **precision(FP)** = 1014/1079 = 93.98% "
   ]
  },
  {
   "cell_type": "code",
   "execution_count": 52,
   "metadata": {},
   "outputs": [
    {
     "data": {
      "text/plain": [
       "0.9397590361445783"
      ]
     },
     "execution_count": 52,
     "metadata": {},
     "output_type": "execute_result"
    }
   ],
   "source": [
    "precision_pac = precision_score(y_test, y_pred_pac, pos_label='FAKE')\n",
    "precision_pac"
   ]
  },
  {
   "cell_type": "code",
   "execution_count": 53,
   "metadata": {},
   "outputs": [
    {
     "data": {
      "text/plain": [
       "0.9467787114845938"
      ]
     },
     "execution_count": 53,
     "metadata": {},
     "output_type": "execute_result"
    }
   ],
   "source": [
    "recall_pac = recall_score(y_test, y_pred_pac, pos_label='FAKE')\n",
    "recall_pac"
   ]
  },
  {
   "cell_type": "code",
   "execution_count": 54,
   "metadata": {},
   "outputs": [
    {
     "data": {
      "text/plain": [
       "0.9432558139534885"
      ]
     },
     "execution_count": 54,
     "metadata": {},
     "output_type": "execute_result"
    }
   ],
   "source": [
    "#f-score is the harmonic weighted average of precision and recall\n",
    "f_score_pac = f1_score(y_test, y_pred_pac, pos_label='FAKE')\n",
    "f_score_pac"
   ]
  },
  {
   "cell_type": "code",
   "execution_count": 55,
   "metadata": {},
   "outputs": [
    {
     "name": "stdout",
     "output_type": "stream",
     "text": [
      "              precision    recall  f1-score   support\n",
      "\n",
      "        FAKE       0.94      0.95      0.94      1071\n",
      "        REAL       0.94      0.94      0.94      1020\n",
      "\n",
      "    accuracy                           0.94      2091\n",
      "   macro avg       0.94      0.94      0.94      2091\n",
      "weighted avg       0.94      0.94      0.94      2091\n",
      "\n"
     ]
    }
   ],
   "source": [
    "class_rep_pac = classification_report(y_test, y_pred_pac) # target_names=['FAKE', 'REAL']\n",
    "print(class_rep_pac)"
   ]
  },
  {
   "cell_type": "code",
   "execution_count": 56,
   "metadata": {},
   "outputs": [],
   "source": [
    "def plot_confusion_matrix(cm, classes,\n",
    "                          normalize=False,\n",
    "                          title='Confusion matrix',\n",
    "                          cmap=plt.cm.Blues):\n",
    "    \"\"\"\n",
    "    See full source and example: \n",
    "    http://scikit-learn.org/stable/auto_examples/model_selection/plot_confusion_matrix.html\n",
    "    \n",
    "    This function prints and plots the confusion matrix.\n",
    "    Normalization can be applied by setting `normalize=True`.\n",
    "    \"\"\"\n",
    "    plt.imshow(cm, interpolation='nearest', cmap=cmap)\n",
    "    plt.title(title)\n",
    "    plt.colorbar()\n",
    "    tick_marks = np.arange(len(classes))\n",
    "    plt.xticks(tick_marks, classes, rotation=45)\n",
    "    plt.yticks(tick_marks, classes)\n",
    "\n",
    "    if normalize:\n",
    "        cm = cm.astype('float') / cm.sum(axis=1)[:, np.newaxis]\n",
    "        print(\"Normalized confusion matrix\")\n",
    "    else:\n",
    "        print('Confusion matrix, without normalization')\n",
    "\n",
    "    thresh = cm.max() / 2.\n",
    "    for i, j in itertools.product(range(cm.shape[0]), range(cm.shape[1])):\n",
    "        plt.text(j, i, cm[i, j],\n",
    "                 horizontalalignment=\"center\",\n",
    "                 color=\"white\" if cm[i, j] > thresh else \"black\")\n",
    "\n",
    "    plt.tight_layout()\n",
    "    plt.ylabel('True label')\n",
    "    plt.xlabel('Predicted label')"
   ]
  },
  {
   "cell_type": "code",
   "execution_count": 57,
   "metadata": {},
   "outputs": [
    {
     "name": "stdout",
     "output_type": "stream",
     "text": [
      "Confusion matrix, without normalization\n"
     ]
    },
    {
     "data": {
      "image/png": "[encoded data removed]",
      "text/plain": [
       "<Figure size 432x288 with 2 Axes>"
      ]
     },
     "metadata": {
      "needs_background": "light"
     },
     "output_type": "display_data"
    }
   ],
   "source": [
    "plot_confusion_matrix(cm_pac, classes=['REAL', 'FAKE'])"
   ]
  },
  {
   "cell_type": "markdown",
   "metadata": {},
   "source": [
    "## 13. make some predictions\n",
    "The model should be trained on BBC news as well."
   ]
  },
  {
   "cell_type": "code",
   "execution_count": 58,
   "metadata": {},
   "outputs": [
    {
     "data": {
      "text/plain": [
       "array(['FAKE'], dtype='<U4')"
      ]
     },
     "execution_count": 58,
     "metadata": {},
     "output_type": "execute_result"
    }
   ],
   "source": [
    "# source: https://www.bbc.com/news/live/election-us-2020-54768270\n",
    "input_text1 = '''Just days before polling day, another tragedy, followed by nights of unrest, highlighted a central issue in this US election - but what exactly that issue is depends upon which side of the great American divide the voter finds themselves. For some, the fatal shooting by police of Walter Wallace in Philadelphia is yet more evidence that sweeping change is needed to tackle the twin scourges of police brutality and systemic racism. For some Americans though, it is the civil unrest in the aftermath of the killing that is their focus. President Trump speaks to those voters with his strong law and order messaging, talking of the rioting and looting.'''\n",
    "prediction1 = pac_model.predict(tfidf_vectorizer.transform([input_text1]))\n",
    "prediction1"
   ]
  },
  {
   "cell_type": "code",
   "execution_count": 59,
   "metadata": {},
   "outputs": [
    {
     "data": {
      "text/plain": [
       "array(['REAL'], dtype='<U4')"
      ]
     },
     "execution_count": 59,
     "metadata": {},
     "output_type": "execute_result"
    }
   ],
   "source": [
    "# source: https://www.bbc.com/news/live/election-us-2020-54768270\n",
    "input_text2 = '''President Trump took time out before a busy day of campaigning to pay tribute to the Scottish actor Sir Sean Connery, whose death at the age of 90 was announced on Friday. Mr Trump described him as \"quite a guy, and a tough character\" and said he had gone on to \"greener fairways\" before claiming that the actor had helped him get approval for a development in Scotland. \"Sean stepped in and shouted 'Let him build the damn thing',\" the president claimed. In 2018 British media reported that Mr Trump had made a similar claim to then UK Prime Minister Theresa May, relating to approval for his Turnberry golf course in South Ayrshire. \"I met James Bond and I got all my approvals,\" the Sunday Times quoted him as saying, adding: \"James Bond was better than my approvals lawyer.\" However Sir Sean did not make any public comment confirming this. In 2012 Mr Trump made the Bond actor the first member of his golf club in Aberdeenshire.'''\n",
    "prediction2 = pac_model.predict(tfidf_vectorizer.transform([input_text2]))\n",
    "prediction2"
   ]
  },
  {
   "cell_type": "code",
   "execution_count": 60,
   "metadata": {},
   "outputs": [
    {
     "data": {
      "text/plain": [
       "array(['REAL'], dtype='<U4')"
      ]
     },
     "execution_count": 60,
     "metadata": {},
     "output_type": "execute_result"
    }
   ],
   "source": [
    "# source: https://www.bbc.com/news/live/election-us-2020-54768270\n",
    "input_text3 = '''The Biden campaign cancelled an event in Texas after it said a convoy of Trump supporters tried to stop a bus on a highway in the state. Staff on the bus called 911 as cars flying Trump flags pulled in front and slowed down as the bus was travelling from San Antonio to Austin, the Biden campaign said. Video of one pro-Trump vehicle appearing to strike another vehicle was posted on social media. Police later escorted the bus to its destination, according to the Washington Post newspaper. The Biden campaign then cancelled the planned event \"for security reasons\", according to Democratic Congresswoman Sheryl Cole. “Rather than engage in productive conversation about the drastically different visions that Joe Biden and Donald Trump have for our country, Trump supporters in Texas [Friday] instead decided to put our staff, surrogates, supporters, and others in harm’s way,” local Biden campaign spokesman Tariq Thowfeek told US media. President Trump later tweeted \"I love Texas!\" along with a video showing his supporters surrounding the bus. Polls in the state have tightened but still show Mr Trump with a narrow lead, according to Real Clear Politics.'''\n",
    "prediction3 = pac_model.predict(tfidf_vectorizer.transform([input_text3]))\n",
    "prediction3"
   ]
  },
  {
   "cell_type": "code",
   "execution_count": 61,
   "metadata": {},
   "outputs": [
    {
     "data": {
      "text/plain": [
       "array(['FAKE'], dtype='<U4')"
      ]
     },
     "execution_count": 61,
     "metadata": {},
     "output_type": "execute_result"
    }
   ],
   "source": [
    "# source: https://www.bbc.com/news/live/election-us-2020-54768270\n",
    "input_text4 = '''One big trend in this election season has been Americans getting to the polls early. As of today, some 92,038,417 ballots have already been cast by voters, about one-third of them in-person - 33,141,215 - and the rest - 58,897202 - by mail. That includes both Donald Trump and Joe Biden, and their respective running mates Mike Pence and Kamala Harris, who have all voted early. In Texas, early votes have surpassed the total number of votes cast in the last general election. On a national level, voters have already cast 66.8%of the total votes counted in the 2016 election, according to the US Elections Project. Election Day - 3 November - is this Tuesday.'''\n",
    "prediction4 = pac_model.predict(tfidf_vectorizer.transform([input_text4]))\n",
    "prediction4"
   ]
  },
  {
   "cell_type": "code",
   "execution_count": 62,
   "metadata": {},
   "outputs": [
    {
     "data": {
      "text/plain": [
       "array(['FAKE'], dtype='<U4')"
      ]
     },
     "execution_count": 62,
     "metadata": {},
     "output_type": "execute_result"
    }
   ],
   "source": [
    "# source: https://www.bbc.com/news/health-54712917\n",
    "input_text5 = '''There's no stopping the second wave of coronavirus, it seems, despite a bundle of new rules designed to do just that. Infection rates are rising rapidly, with estimates suggesting up to 100,000 people a day may be catching the virus. Across the Channel, France has admitted its regional approach is not working, by announcing a new national lockdown. Germany, to a lesser extent, is also planning one. Wales is in the middle of a short \"fire-breaker\" lockdown, in which bars, restaurants, churches and most shops have shut for a fortnight. So is a full-on UK-wide lockdown only a matter of time? Many of those advising government have given it their backing. Sir Jeremy Farrar, a member of the Scientific Advisory Group for Emergencies (Sage), which advises ministers, says it should have happened already - and definitely needs to now. Any delay, he said, will be costly and will mean later restrictions will be \"harder and longer\". The tools we have at our disposal are not proving effective, said Dr Duncan Robertson, a disease modeller at Loughborough University. The test-and trace-system, designed to nip outbreaks in the bud, can't cope, he said. The service has consistently failed to reach enough close contacts of people who test positive. It's just a \"matter of time\" before a lockdown is introduced, he believes.'''\n",
    "prediction5 = pac_model.predict(tfidf_vectorizer.transform([input_text5]))\n",
    "prediction5"
   ]
  },
  {
   "cell_type": "markdown",
   "metadata": {},
   "source": [
    "## 14. export (dump) the tfidf_vectorizer and the model"
   ]
  },
  {
   "cell_type": "code",
   "execution_count": 63,
   "metadata": {},
   "outputs": [],
   "source": [
    "with open('tfidf_vectorizer.pkl', 'wb') as file:\n",
    "    pickle.dump(tfidf_vectorizer, file)"
   ]
  },
  {
   "cell_type": "code",
   "execution_count": 64,
   "metadata": {},
   "outputs": [],
   "source": [
    "with open('pac_model.pkl', 'wb') as file:\n",
    "    pickle.dump(pac_model, file)"
   ]
  },
  {
   "cell_type": "markdown",
   "metadata": {},
   "source": [
    "## 15. check: import (load) the pickled tfidf_vectorizer and the model"
   ]
  },
  {
   "cell_type": "code",
   "execution_count": 65,
   "metadata": {},
   "outputs": [],
   "source": [
    "with open('tfidf_vectorizer.pkl', 'rb') as file:\n",
    "    imported_vectorizer = pickle.load(file)"
   ]
  },
  {
   "cell_type": "code",
   "execution_count": 66,
   "metadata": {},
   "outputs": [],
   "source": [
    "with open('pac_model.pkl', 'rb') as file:\n",
    "    imported_model = pickle.load(file) "
   ]
  },
  {
   "cell_type": "code",
   "execution_count": 67,
   "metadata": {},
   "outputs": [
    {
     "data": {
      "text/plain": [
       "array(['REAL'], dtype='<U4')"
      ]
     },
     "execution_count": 67,
     "metadata": {},
     "output_type": "execute_result"
    }
   ],
   "source": [
    "# source = https://www.bbc.com/news/uk-54772375\n",
    "input_text6 = '''Greater Manchester Mayor Andy Burnham and Liverpool City Region Mayor Steve Rotherham said that education institutions should close to reduce the spread of the virus more quickly. Scientists have also warned Covid-19 is spreading fast in secondary schools. But cabinet minister Michael Gove said: \"We want to keep schools open.\" Mr Gove told the BBC's Andrew Marr Show that the government was taking the necessary measures to keep schools open. He rejected the suggestion that it would mean a longer period of lockdown because schools staying open would contribute to the continued transmission of coronavirus. Schools may need to shut to some years - scientist. Emergency powers to require schools to teach online. What happens if someone at school tests positive? Infection rates among secondary school children \"appear to be steeply increasing\", according to the latest survey by the Office of National Statistics. An estimated 2% of children in Year 7 to Year 11 tested positive for the virus in the most recent week of testing, the highest positivity rate of any age group except sixth-formers and young adults. Sir Jeremy Farrar, a member of the government's Scientific Advisory Group for Emergencies (Sage), told the Andrew Marr Show that keeping schools open was the \"big difference\" between the new restrictions and the lockdown in spring. \"Because we have delayed the onset of this lockdown it does make keeping schools open harder,\" he said. \"We know that transmission, particularly in secondary schools, is high.\" He said that closing schools \"may have to be revisited\" over the next four weeks if the transmission of the virus continues to rise.'''\n",
    "prediction6 = imported_model.predict(imported_vectorizer.transform([input_text6]))\n",
    "prediction6"
   ]
  },
  {
   "cell_type": "code",
   "execution_count": null,
   "metadata": {},
   "outputs": [],
   "source": []
  }
 ],
 "metadata": {
  "kernelspec": {
   "display_name": "Python 3",
   "language": "python",
   "name": "python3"
  },
  "language_info": {
   "codemirror_mode": {
    "name": "ipython",
    "version": 3
   },
   "file_extension": ".py",
   "mimetype": "text/x-python",
   "name": "python",
   "nbconvert_exporter": "python",
   "pygments_lexer": "ipython3",
   "version": "3.8.3"
  }
 },
 "nbformat": 4,
 "nbformat_minor": 4
}
